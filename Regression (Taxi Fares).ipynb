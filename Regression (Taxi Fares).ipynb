{
 "cells": [
  {
   "cell_type": "markdown",
   "metadata": {},
   "source": [
    "# Regression with neural networks\n",
    "\n",
    "Imagine that you work for a taxi company, and that one of your customers' biggest complaints is that they don't know how much a ride will cost until it's over. That's because distance is just one of several factors from which taxi fares are calculated. You decide to do something about it by building a mobile app that customers can use when they climb into a taxi to estimate what the fare will be. To provide the smarts for the app, you intend to use the massive amounts of fare data the company has collected over the years to train a neural network. Let's use a portion of a larger taxi-fare dataset from New York City to train the network to predict a fare amount given the time of day, the pickup and dropoff locations, and other information.\n",
    "\n",
    "![](Images/nyc.jpg)"
   ]
  },
  {
   "cell_type": "markdown",
   "metadata": {},
   "source": [
    "## Load and prepare data\n",
    "\n",
    "Start by loading the dataset and shaping it so that it's suitable for use in machine learning. This dataset is a subset of a much larger dataset containing more than 100 million rows. Recently, the larger dataset was used in Kaggle's [New York City Taxi Fare Prediction](https://www.kaggle.com/c/new-york-city-taxi-fare-prediction) competition. The data requires a fair amount of prep work before it's of any use at all — something that is not uncommon in machine learning. Data scientists often find that collecting and preparing data accounts for 90% or more of their time."
   ]
  },
  {
   "cell_type": "code",
   "execution_count": 1,
   "metadata": {},
   "outputs": [
    {
     "data": {
      "text/html": [
       "<div>\n",
       "<style scoped>\n",
       "    .dataframe tbody tr th:only-of-type {\n",
       "        vertical-align: middle;\n",
       "    }\n",
       "\n",
       "    .dataframe tbody tr th {\n",
       "        vertical-align: top;\n",
       "    }\n",
       "\n",
       "    .dataframe thead th {\n",
       "        text-align: right;\n",
       "    }\n",
       "</style>\n",
       "<table border=\"1\" class=\"dataframe\">\n",
       "  <thead>\n",
       "    <tr style=\"text-align: right;\">\n",
       "      <th></th>\n",
       "      <th>key</th>\n",
       "      <th>fare_amount</th>\n",
       "      <th>pickup_datetime</th>\n",
       "      <th>pickup_longitude</th>\n",
       "      <th>pickup_latitude</th>\n",
       "      <th>dropoff_longitude</th>\n",
       "      <th>dropoff_latitude</th>\n",
       "      <th>passenger_count</th>\n",
       "    </tr>\n",
       "  </thead>\n",
       "  <tbody>\n",
       "    <tr>\n",
       "      <th>0</th>\n",
       "      <td>2014-06-15 17:11:00.000000107</td>\n",
       "      <td>7.0</td>\n",
       "      <td>2014-06-15 17:11:00 UTC</td>\n",
       "      <td>-73.995420</td>\n",
       "      <td>40.759662</td>\n",
       "      <td>-73.987607</td>\n",
       "      <td>40.751247</td>\n",
       "      <td>1</td>\n",
       "    </tr>\n",
       "    <tr>\n",
       "      <th>1</th>\n",
       "      <td>2011-03-14 22:43:00.00000095</td>\n",
       "      <td>4.9</td>\n",
       "      <td>2011-03-14 22:43:00 UTC</td>\n",
       "      <td>-73.993552</td>\n",
       "      <td>40.731110</td>\n",
       "      <td>-73.998497</td>\n",
       "      <td>40.737200</td>\n",
       "      <td>5</td>\n",
       "    </tr>\n",
       "    <tr>\n",
       "      <th>2</th>\n",
       "      <td>2011-02-14 15:14:00.00000067</td>\n",
       "      <td>6.1</td>\n",
       "      <td>2011-02-14 15:14:00 UTC</td>\n",
       "      <td>-73.972380</td>\n",
       "      <td>40.749527</td>\n",
       "      <td>-73.990638</td>\n",
       "      <td>40.745328</td>\n",
       "      <td>1</td>\n",
       "    </tr>\n",
       "    <tr>\n",
       "      <th>3</th>\n",
       "      <td>2009-10-29 11:29:00.00000040</td>\n",
       "      <td>6.9</td>\n",
       "      <td>2009-10-29 11:29:00 UTC</td>\n",
       "      <td>-73.973703</td>\n",
       "      <td>40.763542</td>\n",
       "      <td>-73.984253</td>\n",
       "      <td>40.758603</td>\n",
       "      <td>5</td>\n",
       "    </tr>\n",
       "    <tr>\n",
       "      <th>4</th>\n",
       "      <td>2011-07-02 10:38:00.00000028</td>\n",
       "      <td>10.5</td>\n",
       "      <td>2011-07-02 10:38:00 UTC</td>\n",
       "      <td>-73.921262</td>\n",
       "      <td>40.743615</td>\n",
       "      <td>-73.967383</td>\n",
       "      <td>40.765162</td>\n",
       "      <td>1</td>\n",
       "    </tr>\n",
       "  </tbody>\n",
       "</table>\n",
       "</div>"
      ],
      "text/plain": [
       "                             key  fare_amount          pickup_datetime  \\\n",
       "0  2014-06-15 17:11:00.000000107          7.0  2014-06-15 17:11:00 UTC   \n",
       "1   2011-03-14 22:43:00.00000095          4.9  2011-03-14 22:43:00 UTC   \n",
       "2   2011-02-14 15:14:00.00000067          6.1  2011-02-14 15:14:00 UTC   \n",
       "3   2009-10-29 11:29:00.00000040          6.9  2009-10-29 11:29:00 UTC   \n",
       "4   2011-07-02 10:38:00.00000028         10.5  2011-07-02 10:38:00 UTC   \n",
       "\n",
       "   pickup_longitude  pickup_latitude  dropoff_longitude  dropoff_latitude  \\\n",
       "0        -73.995420        40.759662         -73.987607         40.751247   \n",
       "1        -73.993552        40.731110         -73.998497         40.737200   \n",
       "2        -73.972380        40.749527         -73.990638         40.745328   \n",
       "3        -73.973703        40.763542         -73.984253         40.758603   \n",
       "4        -73.921262        40.743615         -73.967383         40.765162   \n",
       "\n",
       "   passenger_count  \n",
       "0                1  \n",
       "1                5  \n",
       "2                1  \n",
       "3                5  \n",
       "4                1  "
      ]
     },
     "execution_count": 1,
     "metadata": {},
     "output_type": "execute_result"
    }
   ],
   "source": [
    "import pandas as pd\n",
    "import matplotlib.pyplot as plt\n",
    "%matplotlib inline\n",
    "import seaborn as sns\n",
    "sns.set()\n",
    "\n",
    "df = pd.read_csv('Data/taxi-fares.csv')\n",
    "df.head()"
   ]
  },
  {
   "cell_type": "markdown",
   "metadata": {},
   "source": [
    "How many rows and columns does the dataset contain?"
   ]
  },
  {
   "cell_type": "code",
   "execution_count": 2,
   "metadata": {},
   "outputs": [
    {
     "data": {
      "text/plain": [
       "(55368, 8)"
      ]
     },
     "execution_count": 2,
     "metadata": {},
     "output_type": "execute_result"
    }
   ],
   "source": [
    "df.shape"
   ]
  },
  {
   "cell_type": "markdown",
   "metadata": {},
   "source": [
    "Are any of the columns missing values?"
   ]
  },
  {
   "cell_type": "code",
   "execution_count": 3,
   "metadata": {},
   "outputs": [
    {
     "name": "stdout",
     "output_type": "stream",
     "text": [
      "<class 'pandas.core.frame.DataFrame'>\n",
      "RangeIndex: 55368 entries, 0 to 55367\n",
      "Data columns (total 8 columns):\n",
      " #   Column             Non-Null Count  Dtype  \n",
      "---  ------             --------------  -----  \n",
      " 0   key                55368 non-null  object \n",
      " 1   fare_amount        55368 non-null  float64\n",
      " 2   pickup_datetime    55368 non-null  object \n",
      " 3   pickup_longitude   55368 non-null  float64\n",
      " 4   pickup_latitude    55368 non-null  float64\n",
      " 5   dropoff_longitude  55368 non-null  float64\n",
      " 6   dropoff_latitude   55368 non-null  float64\n",
      " 7   passenger_count    55368 non-null  int64  \n",
      "dtypes: float64(5), int64(1), object(2)\n",
      "memory usage: 3.4+ MB\n"
     ]
    }
   ],
   "source": [
    "df.info()"
   ]
  },
  {
   "cell_type": "markdown",
   "metadata": {},
   "source": [
    "Draw a histogram showing how many rows contain a passenger count of 1, how many contain a passenger count of 2, and so on."
   ]
  },
  {
   "cell_type": "code",
   "execution_count": 4,
   "metadata": {},
   "outputs": [
    {
     "data": {
      "text/plain": [
       "<AxesSubplot:xlabel='passenger_count', ylabel='count'>"
      ]
     },
     "execution_count": 4,
     "metadata": {},
     "output_type": "execute_result"
    },
    {
     "data": {
      "image/png": "[encoded data removed]",
      "text/plain": [
       "<Figure size 432x288 with 1 Axes>"
      ]
     },
     "metadata": {},
     "output_type": "display_data"
    }
   ],
   "source": [
    "sns.countplot(x=df['passenger_count'])"
   ]
  },
  {
   "cell_type": "markdown",
   "metadata": {},
   "source": [
    "Most of the rows in the dataset have a passenger count of 1. Remove all rows with multiple passengers and remove the \"key\" column from the dataset."
   ]
  },
  {
   "cell_type": "code",
   "execution_count": 5,
   "metadata": {},
   "outputs": [
    {
     "data": {
      "text/html": [
       "<div>\n",
       "<style scoped>\n",
       "    .dataframe tbody tr th:only-of-type {\n",
       "        vertical-align: middle;\n",
       "    }\n",
       "\n",
       "    .dataframe tbody tr th {\n",
       "        vertical-align: top;\n",
       "    }\n",
       "\n",
       "    .dataframe thead th {\n",
       "        text-align: right;\n",
       "    }\n",
       "</style>\n",
       "<table border=\"1\" class=\"dataframe\">\n",
       "  <thead>\n",
       "    <tr style=\"text-align: right;\">\n",
       "      <th></th>\n",
       "      <th>fare_amount</th>\n",
       "      <th>pickup_datetime</th>\n",
       "      <th>pickup_longitude</th>\n",
       "      <th>pickup_latitude</th>\n",
       "      <th>dropoff_longitude</th>\n",
       "      <th>dropoff_latitude</th>\n",
       "    </tr>\n",
       "  </thead>\n",
       "  <tbody>\n",
       "    <tr>\n",
       "      <th>0</th>\n",
       "      <td>7.0</td>\n",
       "      <td>2014-06-15 17:11:00 UTC</td>\n",
       "      <td>-73.995420</td>\n",
       "      <td>40.759662</td>\n",
       "      <td>-73.987607</td>\n",
       "      <td>40.751247</td>\n",
       "    </tr>\n",
       "    <tr>\n",
       "      <th>2</th>\n",
       "      <td>6.1</td>\n",
       "      <td>2011-02-14 15:14:00 UTC</td>\n",
       "      <td>-73.972380</td>\n",
       "      <td>40.749527</td>\n",
       "      <td>-73.990638</td>\n",
       "      <td>40.745328</td>\n",
       "    </tr>\n",
       "    <tr>\n",
       "      <th>4</th>\n",
       "      <td>10.5</td>\n",
       "      <td>2011-07-02 10:38:00 UTC</td>\n",
       "      <td>-73.921262</td>\n",
       "      <td>40.743615</td>\n",
       "      <td>-73.967383</td>\n",
       "      <td>40.765162</td>\n",
       "    </tr>\n",
       "    <tr>\n",
       "      <th>5</th>\n",
       "      <td>15.3</td>\n",
       "      <td>2011-12-09 20:03:00 UTC</td>\n",
       "      <td>-73.973500</td>\n",
       "      <td>40.792610</td>\n",
       "      <td>-73.936035</td>\n",
       "      <td>40.856548</td>\n",
       "    </tr>\n",
       "    <tr>\n",
       "      <th>8</th>\n",
       "      <td>7.7</td>\n",
       "      <td>2011-04-02 01:05:15 UTC</td>\n",
       "      <td>-73.979564</td>\n",
       "      <td>40.735405</td>\n",
       "      <td>-73.955686</td>\n",
       "      <td>40.768065</td>\n",
       "    </tr>\n",
       "  </tbody>\n",
       "</table>\n",
       "</div>"
      ],
      "text/plain": [
       "   fare_amount          pickup_datetime  pickup_longitude  pickup_latitude  \\\n",
       "0          7.0  2014-06-15 17:11:00 UTC        -73.995420        40.759662   \n",
       "2          6.1  2011-02-14 15:14:00 UTC        -73.972380        40.749527   \n",
       "4         10.5  2011-07-02 10:38:00 UTC        -73.921262        40.743615   \n",
       "5         15.3  2011-12-09 20:03:00 UTC        -73.973500        40.792610   \n",
       "8          7.7  2011-04-02 01:05:15 UTC        -73.979564        40.735405   \n",
       "\n",
       "   dropoff_longitude  dropoff_latitude  \n",
       "0         -73.987607         40.751247  \n",
       "2         -73.990638         40.745328  \n",
       "4         -73.967383         40.765162  \n",
       "5         -73.936035         40.856548  \n",
       "8         -73.955686         40.768065  "
      ]
     },
     "execution_count": 5,
     "metadata": {},
     "output_type": "execute_result"
    }
   ],
   "source": [
    "df = df[df['passenger_count'] == 1]\n",
    "df = df.drop(['key', 'passenger_count'], axis=1)\n",
    "df.head()"
   ]
  },
  {
   "cell_type": "markdown",
   "metadata": {},
   "source": [
    "How many rows and columns are left in the dataset?"
   ]
  },
  {
   "cell_type": "code",
   "execution_count": 6,
   "metadata": {},
   "outputs": [
    {
     "data": {
      "text/plain": [
       "(38233, 6)"
      ]
     },
     "execution_count": 6,
     "metadata": {},
     "output_type": "execute_result"
    }
   ],
   "source": [
    "df.shape"
   ]
  },
  {
   "cell_type": "markdown",
   "metadata": {},
   "source": [
    "Find out how much influence input variables such as `latitude` and `longitude` have on the values in the \"fare_amount\" column."
   ]
  },
  {
   "cell_type": "code",
   "execution_count": 7,
   "metadata": {},
   "outputs": [
    {
     "data": {
      "text/plain": [
       "fare_amount          1.000000\n",
       "dropoff_longitude    0.020438\n",
       "pickup_longitude     0.015742\n",
       "pickup_latitude     -0.015915\n",
       "dropoff_latitude    -0.021711\n",
       "Name: fare_amount, dtype: float64"
      ]
     },
     "execution_count": 7,
     "metadata": {},
     "output_type": "execute_result"
    }
   ],
   "source": [
    "corr_matrix = df.corr()\n",
    "corr_matrix['fare_amount'].sort_values(ascending=False)"
   ]
  },
  {
   "cell_type": "markdown",
   "metadata": {},
   "source": [
    "The numbers don't look very encouraging. Latitudes and longitudes have little to do with fare amounts, at least in their present form. And yet intuitively, they should have a *lot* do with fare amounts since they specify starting and ending points and longer rides incur higher fares.\n",
    "\n",
    "Now comes the fun part: creating whole new columns of data that have more impact on the outcome — columns whose values are computed from values in other columns. Add columns specifying the day of the week (0=Monday, 1=Sunday, and so on), the hour of the day that the passenger was picked up (0-23), and the distance (through the air, not on the street) in miles that the ride covered. To compute distances, this code assumes that most rides are short and that it is therefore safe to ignore the curvature of the earth."
   ]
  },
  {
   "cell_type": "code",
   "execution_count": 8,
   "metadata": {},
   "outputs": [
    {
     "data": {
      "text/html": [
       "<div>\n",
       "<style scoped>\n",
       "    .dataframe tbody tr th:only-of-type {\n",
       "        vertical-align: middle;\n",
       "    }\n",
       "\n",
       "    .dataframe tbody tr th {\n",
       "        vertical-align: top;\n",
       "    }\n",
       "\n",
       "    .dataframe thead th {\n",
       "        text-align: right;\n",
       "    }\n",
       "</style>\n",
       "<table border=\"1\" class=\"dataframe\">\n",
       "  <thead>\n",
       "    <tr style=\"text-align: right;\">\n",
       "      <th></th>\n",
       "      <th>fare_amount</th>\n",
       "      <th>pickup_datetime</th>\n",
       "      <th>pickup_longitude</th>\n",
       "      <th>pickup_latitude</th>\n",
       "      <th>dropoff_longitude</th>\n",
       "      <th>dropoff_latitude</th>\n",
       "      <th>day_of_week</th>\n",
       "      <th>pickup_time</th>\n",
       "      <th>distance</th>\n",
       "    </tr>\n",
       "  </thead>\n",
       "  <tbody>\n",
       "    <tr>\n",
       "      <th>0</th>\n",
       "      <td>7.0</td>\n",
       "      <td>2014-06-15 17:11:00 UTC</td>\n",
       "      <td>-73.995420</td>\n",
       "      <td>40.759662</td>\n",
       "      <td>-73.987607</td>\n",
       "      <td>40.751247</td>\n",
       "      <td>6.0</td>\n",
       "      <td>17.0</td>\n",
       "      <td>0.720497</td>\n",
       "    </tr>\n",
       "    <tr>\n",
       "      <th>2</th>\n",
       "      <td>6.1</td>\n",
       "      <td>2011-02-14 15:14:00 UTC</td>\n",
       "      <td>-73.972380</td>\n",
       "      <td>40.749527</td>\n",
       "      <td>-73.990638</td>\n",
       "      <td>40.745328</td>\n",
       "      <td>0.0</td>\n",
       "      <td>15.0</td>\n",
       "      <td>1.038136</td>\n",
       "    </tr>\n",
       "    <tr>\n",
       "      <th>4</th>\n",
       "      <td>10.5</td>\n",
       "      <td>2011-07-02 10:38:00 UTC</td>\n",
       "      <td>-73.921262</td>\n",
       "      <td>40.743615</td>\n",
       "      <td>-73.967383</td>\n",
       "      <td>40.765162</td>\n",
       "      <td>5.0</td>\n",
       "      <td>10.0</td>\n",
       "      <td>2.924341</td>\n",
       "    </tr>\n",
       "    <tr>\n",
       "      <th>5</th>\n",
       "      <td>15.3</td>\n",
       "      <td>2011-12-09 20:03:00 UTC</td>\n",
       "      <td>-73.973500</td>\n",
       "      <td>40.792610</td>\n",
       "      <td>-73.936035</td>\n",
       "      <td>40.856548</td>\n",
       "      <td>4.0</td>\n",
       "      <td>20.0</td>\n",
       "      <td>4.862893</td>\n",
       "    </tr>\n",
       "    <tr>\n",
       "      <th>8</th>\n",
       "      <td>7.7</td>\n",
       "      <td>2011-04-02 01:05:15 UTC</td>\n",
       "      <td>-73.979564</td>\n",
       "      <td>40.735405</td>\n",
       "      <td>-73.955686</td>\n",
       "      <td>40.768065</td>\n",
       "      <td>5.0</td>\n",
       "      <td>1.0</td>\n",
       "      <td>2.603493</td>\n",
       "    </tr>\n",
       "  </tbody>\n",
       "</table>\n",
       "</div>"
      ],
      "text/plain": [
       "   fare_amount          pickup_datetime  pickup_longitude  pickup_latitude  \\\n",
       "0          7.0  2014-06-15 17:11:00 UTC        -73.995420        40.759662   \n",
       "2          6.1  2011-02-14 15:14:00 UTC        -73.972380        40.749527   \n",
       "4         10.5  2011-07-02 10:38:00 UTC        -73.921262        40.743615   \n",
       "5         15.3  2011-12-09 20:03:00 UTC        -73.973500        40.792610   \n",
       "8          7.7  2011-04-02 01:05:15 UTC        -73.979564        40.735405   \n",
       "\n",
       "   dropoff_longitude  dropoff_latitude  day_of_week  pickup_time  distance  \n",
       "0         -73.987607         40.751247          6.0         17.0  0.720497  \n",
       "2         -73.990638         40.745328          0.0         15.0  1.038136  \n",
       "4         -73.967383         40.765162          5.0         10.0  2.924341  \n",
       "5         -73.936035         40.856548          4.0         20.0  4.862893  \n",
       "8         -73.955686         40.768065          5.0          1.0  2.603493  "
      ]
     },
     "execution_count": 8,
     "metadata": {},
     "output_type": "execute_result"
    }
   ],
   "source": [
    "import datetime\n",
    "from math import sqrt\n",
    "\n",
    "for i, row in df.iterrows():\n",
    "    dt = datetime.datetime.strptime(row['pickup_datetime'], '%Y-%m-%d %H:%M:%S UTC')\n",
    "    df.at[i, 'day_of_week'] = dt.weekday()\n",
    "    df.at[i, 'pickup_time'] = dt.hour\n",
    "    x = (row['dropoff_longitude'] - row['pickup_longitude']) * 54.6 # 1 degree == 54.6 miles\n",
    "    y = (row['dropoff_latitude'] - row['pickup_latitude']) * 69.0   # 1 degree == 69 miles\n",
    "    distance = sqrt(x**2 + y**2)\n",
    "    df.at[i, 'distance'] = distance\n",
    "    \n",
    "df.head()"
   ]
  },
  {
   "cell_type": "markdown",
   "metadata": {},
   "source": [
    "Remove columns that are no longer needed."
   ]
  },
  {
   "cell_type": "code",
   "execution_count": 9,
   "metadata": {},
   "outputs": [
    {
     "data": {
      "text/html": [
       "<div>\n",
       "<style scoped>\n",
       "    .dataframe tbody tr th:only-of-type {\n",
       "        vertical-align: middle;\n",
       "    }\n",
       "\n",
       "    .dataframe tbody tr th {\n",
       "        vertical-align: top;\n",
       "    }\n",
       "\n",
       "    .dataframe thead th {\n",
       "        text-align: right;\n",
       "    }\n",
       "</style>\n",
       "<table border=\"1\" class=\"dataframe\">\n",
       "  <thead>\n",
       "    <tr style=\"text-align: right;\">\n",
       "      <th></th>\n",
       "      <th>fare_amount</th>\n",
       "      <th>day_of_week</th>\n",
       "      <th>pickup_time</th>\n",
       "      <th>distance</th>\n",
       "    </tr>\n",
       "  </thead>\n",
       "  <tbody>\n",
       "    <tr>\n",
       "      <th>0</th>\n",
       "      <td>7.0</td>\n",
       "      <td>6.0</td>\n",
       "      <td>17.0</td>\n",
       "      <td>0.720497</td>\n",
       "    </tr>\n",
       "    <tr>\n",
       "      <th>2</th>\n",
       "      <td>6.1</td>\n",
       "      <td>0.0</td>\n",
       "      <td>15.0</td>\n",
       "      <td>1.038136</td>\n",
       "    </tr>\n",
       "    <tr>\n",
       "      <th>4</th>\n",
       "      <td>10.5</td>\n",
       "      <td>5.0</td>\n",
       "      <td>10.0</td>\n",
       "      <td>2.924341</td>\n",
       "    </tr>\n",
       "    <tr>\n",
       "      <th>5</th>\n",
       "      <td>15.3</td>\n",
       "      <td>4.0</td>\n",
       "      <td>20.0</td>\n",
       "      <td>4.862893</td>\n",
       "    </tr>\n",
       "    <tr>\n",
       "      <th>8</th>\n",
       "      <td>7.7</td>\n",
       "      <td>5.0</td>\n",
       "      <td>1.0</td>\n",
       "      <td>2.603493</td>\n",
       "    </tr>\n",
       "  </tbody>\n",
       "</table>\n",
       "</div>"
      ],
      "text/plain": [
       "   fare_amount  day_of_week  pickup_time  distance\n",
       "0          7.0          6.0         17.0  0.720497\n",
       "2          6.1          0.0         15.0  1.038136\n",
       "4         10.5          5.0         10.0  2.924341\n",
       "5         15.3          4.0         20.0  4.862893\n",
       "8          7.7          5.0          1.0  2.603493"
      ]
     },
     "execution_count": 9,
     "metadata": {},
     "output_type": "execute_result"
    }
   ],
   "source": [
    "df.drop(columns=['pickup_datetime', 'pickup_longitude', 'pickup_latitude', 'dropoff_longitude', 'dropoff_latitude'], inplace=True)\n",
    "df.head()"
   ]
  },
  {
   "cell_type": "markdown",
   "metadata": {},
   "source": [
    "Run a correlation again."
   ]
  },
  {
   "cell_type": "code",
   "execution_count": 10,
   "metadata": {},
   "outputs": [
    {
     "data": {
      "text/plain": [
       "fare_amount    1.000000\n",
       "distance       0.045873\n",
       "day_of_week    0.009196\n",
       "pickup_time   -0.019722\n",
       "Name: fare_amount, dtype: float64"
      ]
     },
     "execution_count": 10,
     "metadata": {},
     "output_type": "execute_result"
    }
   ],
   "source": [
    "corr_matrix = df.corr()\n",
    "corr_matrix[\"fare_amount\"].sort_values(ascending=False)"
   ]
  },
  {
   "cell_type": "markdown",
   "metadata": {},
   "source": [
    "There still isn't a strong correlation between distance traveled and fare amount. Perhaps this will provide some clue as to why:"
   ]
  },
  {
   "cell_type": "code",
   "execution_count": 11,
   "metadata": {},
   "outputs": [
    {
     "data": {
      "text/html": [
       "<div>\n",
       "<style scoped>\n",
       "    .dataframe tbody tr th:only-of-type {\n",
       "        vertical-align: middle;\n",
       "    }\n",
       "\n",
       "    .dataframe tbody tr th {\n",
       "        vertical-align: top;\n",
       "    }\n",
       "\n",
       "    .dataframe thead th {\n",
       "        text-align: right;\n",
       "    }\n",
       "</style>\n",
       "<table border=\"1\" class=\"dataframe\">\n",
       "  <thead>\n",
       "    <tr style=\"text-align: right;\">\n",
       "      <th></th>\n",
       "      <th>fare_amount</th>\n",
       "      <th>day_of_week</th>\n",
       "      <th>pickup_time</th>\n",
       "      <th>distance</th>\n",
       "    </tr>\n",
       "  </thead>\n",
       "  <tbody>\n",
       "    <tr>\n",
       "      <th>count</th>\n",
       "      <td>38233.000000</td>\n",
       "      <td>38233.000000</td>\n",
       "      <td>38233.000000</td>\n",
       "      <td>38233.000000</td>\n",
       "    </tr>\n",
       "    <tr>\n",
       "      <th>mean</th>\n",
       "      <td>11.214115</td>\n",
       "      <td>2.951534</td>\n",
       "      <td>13.387989</td>\n",
       "      <td>12.018397</td>\n",
       "    </tr>\n",
       "    <tr>\n",
       "      <th>std</th>\n",
       "      <td>9.703149</td>\n",
       "      <td>1.932809</td>\n",
       "      <td>6.446519</td>\n",
       "      <td>217.357022</td>\n",
       "    </tr>\n",
       "    <tr>\n",
       "      <th>min</th>\n",
       "      <td>-22.100000</td>\n",
       "      <td>0.000000</td>\n",
       "      <td>0.000000</td>\n",
       "      <td>0.000000</td>\n",
       "    </tr>\n",
       "    <tr>\n",
       "      <th>25%</th>\n",
       "      <td>6.000000</td>\n",
       "      <td>1.000000</td>\n",
       "      <td>9.000000</td>\n",
       "      <td>0.762116</td>\n",
       "    </tr>\n",
       "    <tr>\n",
       "      <th>50%</th>\n",
       "      <td>8.500000</td>\n",
       "      <td>3.000000</td>\n",
       "      <td>14.000000</td>\n",
       "      <td>1.331326</td>\n",
       "    </tr>\n",
       "    <tr>\n",
       "      <th>75%</th>\n",
       "      <td>12.500000</td>\n",
       "      <td>5.000000</td>\n",
       "      <td>19.000000</td>\n",
       "      <td>2.402226</td>\n",
       "    </tr>\n",
       "    <tr>\n",
       "      <th>max</th>\n",
       "      <td>256.000000</td>\n",
       "      <td>6.000000</td>\n",
       "      <td>23.000000</td>\n",
       "      <td>4923.837280</td>\n",
       "    </tr>\n",
       "  </tbody>\n",
       "</table>\n",
       "</div>"
      ],
      "text/plain": [
       "        fare_amount   day_of_week   pickup_time      distance\n",
       "count  38233.000000  38233.000000  38233.000000  38233.000000\n",
       "mean      11.214115      2.951534     13.387989     12.018397\n",
       "std        9.703149      1.932809      6.446519    217.357022\n",
       "min      -22.100000      0.000000      0.000000      0.000000\n",
       "25%        6.000000      1.000000      9.000000      0.762116\n",
       "50%        8.500000      3.000000     14.000000      1.331326\n",
       "75%       12.500000      5.000000     19.000000      2.402226\n",
       "max      256.000000      6.000000     23.000000   4923.837280"
      ]
     },
     "execution_count": 11,
     "metadata": {},
     "output_type": "execute_result"
    }
   ],
   "source": [
    "df.describe()"
   ]
  },
  {
   "cell_type": "markdown",
   "metadata": {},
   "source": [
    "The dataset contains outliers, and outliers frequently skew the results of machine-learning models (or prevent them from working at all). Filter the dataset by eliminating negative fare amounts and placing reasonable limits on fares and distance."
   ]
  },
  {
   "cell_type": "code",
   "execution_count": 12,
   "metadata": {},
   "outputs": [
    {
     "data": {
      "text/plain": [
       "(23298, 4)"
      ]
     },
     "execution_count": 12,
     "metadata": {},
     "output_type": "execute_result"
    }
   ],
   "source": [
    "df = df[(df['distance'] > 1.0) & (df['distance'] < 10.0)]\n",
    "df = df[(df['fare_amount'] > 0.0) & (df['fare_amount'] < 50.0)]\n",
    "df.shape"
   ]
  },
  {
   "cell_type": "markdown",
   "metadata": {},
   "source": [
    "Run a correlation again."
   ]
  },
  {
   "cell_type": "code",
   "execution_count": 13,
   "metadata": {},
   "outputs": [
    {
     "data": {
      "text/plain": [
       "fare_amount    1.000000\n",
       "distance       0.851913\n",
       "day_of_week   -0.003570\n",
       "pickup_time   -0.023085\n",
       "Name: fare_amount, dtype: float64"
      ]
     },
     "execution_count": 13,
     "metadata": {},
     "output_type": "execute_result"
    }
   ],
   "source": [
    "corr_matrix = df.corr()\n",
    "corr_matrix[\"fare_amount\"].sort_values(ascending=False)"
   ]
  },
  {
   "cell_type": "markdown",
   "metadata": {},
   "source": [
    "That looks better! The correlation between the day of the week, the hour of the day, and fare amount is still weak, but let's leave those columns in there since it makes sense that it might take longer to get from point A to point B during rush hour, or that traffic at 5:00 p.m. Friday might be different than traffic at 5:00 p.m. on Saturday."
   ]
  },
  {
   "cell_type": "markdown",
   "metadata": {},
   "source": [
    "# Train a neural network\n",
    "\n",
    "Now it's time build a neural network and train it with the data prepared in the previous exercise. We'll declare two hidden layers with 512 neurons each, and since the model is designed to predict a fare amount, the output layer will have one neuron."
   ]
  },
  {
   "cell_type": "code",
   "execution_count": 14,
   "metadata": {},
   "outputs": [
    {
     "name": "stdout",
     "output_type": "stream",
     "text": [
      "Model: \"sequential\"\n",
      "_________________________________________________________________\n",
      "Layer (type)                 Output Shape              Param #   \n",
      "=================================================================\n",
      "dense (Dense)                (None, 512)               2048      \n",
      "_________________________________________________________________\n",
      "dense_1 (Dense)              (None, 512)               262656    \n",
      "_________________________________________________________________\n",
      "dense_2 (Dense)              (None, 1)                 513       \n",
      "=================================================================\n",
      "Total params: 265,217\n",
      "Trainable params: 265,217\n",
      "Non-trainable params: 0\n",
      "_________________________________________________________________\n"
     ]
    }
   ],
   "source": [
    "from keras.models import Sequential\n",
    "from keras.layers import Dense\n",
    "\n",
    "model = Sequential()\n",
    "model.add(Dense(512, activation='relu', input_dim=3))\n",
    "model.add(Dense(512, activation='relu'))\n",
    "model.add(Dense(1))\n",
    "model.compile(optimizer='adam', loss='mae', metrics=['mae'])\n",
    "weights = model.get_weights() # Save initial weights and biases\n",
    "model.summary()"
   ]
  },
  {
   "cell_type": "markdown",
   "metadata": {},
   "source": [
    "Extract the feature columns and the label column and train the model."
   ]
  },
  {
   "cell_type": "code",
   "execution_count": 15,
   "metadata": {},
   "outputs": [
    {
     "name": "stdout",
     "output_type": "stream",
     "text": [
      "Epoch 1/100\n",
      "187/187 [==============================] - 8s 4ms/step - loss: 3.9602 - mae: 3.9602 - val_loss: 2.3879 - val_mae: 2.3879\n",
      "Epoch 2/100\n",
      "187/187 [==============================] - 0s 2ms/step - loss: 2.3849 - mae: 2.3849 - val_loss: 2.4165 - val_mae: 2.4165\n",
      "Epoch 3/100\n",
      "187/187 [==============================] - 0s 2ms/step - loss: 2.4484 - mae: 2.4484 - val_loss: 2.3658 - val_mae: 2.3658\n",
      "Epoch 4/100\n",
      "187/187 [==============================] - ETA: 0s - loss: 2.3451 - mae: 2.345 - 0s 2ms/step - loss: 2.3482 - mae: 2.3482 - val_loss: 2.3588 - val_mae: 2.3588\n",
      "Epoch 5/100\n",
      "187/187 [==============================] - 0s 2ms/step - loss: 2.3892 - mae: 2.3892 - val_loss: 2.3954 - val_mae: 2.3954\n",
      "Epoch 6/100\n",
      "187/187 [==============================] - 0s 2ms/step - loss: 2.3763 - mae: 2.3763 - val_loss: 2.3447 - val_mae: 2.3447\n",
      "Epoch 7/100\n",
      "187/187 [==============================] - 0s 2ms/step - loss: 2.3797 - mae: 2.3797 - val_loss: 2.3358 - val_mae: 2.3358\n",
      "Epoch 8/100\n",
      "187/187 [==============================] - 0s 2ms/step - loss: 2.3547 - mae: 2.3547 - val_loss: 2.3782 - val_mae: 2.3782\n",
      "Epoch 9/100\n",
      "187/187 [==============================] - 0s 2ms/step - loss: 2.3355 - mae: 2.3355 - val_loss: 2.3378 - val_mae: 2.3378\n",
      "Epoch 10/100\n",
      "187/187 [==============================] - 0s 2ms/step - loss: 2.3379 - mae: 2.3379 - val_loss: 2.3785 - val_mae: 2.3785\n",
      "Epoch 11/100\n",
      "187/187 [==============================] - 0s 2ms/step - loss: 2.3648 - mae: 2.3648 - val_loss: 2.3652 - val_mae: 2.3652\n",
      "Epoch 12/100\n",
      "187/187 [==============================] - 0s 2ms/step - loss: 2.3604 - mae: 2.3604 - val_loss: 2.3353 - val_mae: 2.3353\n",
      "Epoch 13/100\n",
      "187/187 [==============================] - 0s 2ms/step - loss: 2.3732 - mae: 2.3732 - val_loss: 2.3528 - val_mae: 2.3528\n",
      "Epoch 14/100\n",
      "187/187 [==============================] - 0s 2ms/step - loss: 2.3542 - mae: 2.3542 - val_loss: 2.3681 - val_mae: 2.3681\n",
      "Epoch 15/100\n",
      "187/187 [==============================] - 0s 2ms/step - loss: 2.3362 - mae: 2.3362 - val_loss: 2.3407 - val_mae: 2.3407\n",
      "Epoch 16/100\n",
      "187/187 [==============================] - 0s 2ms/step - loss: 2.3019 - mae: 2.3019 - val_loss: 2.4244 - val_mae: 2.4244\n",
      "Epoch 17/100\n",
      "187/187 [==============================] - 0s 2ms/step - loss: 2.3464 - mae: 2.3464 - val_loss: 2.3136 - val_mae: 2.3136\n",
      "Epoch 18/100\n",
      "187/187 [==============================] - 0s 2ms/step - loss: 2.3387 - mae: 2.3387 - val_loss: 2.3127 - val_mae: 2.3127\n",
      "Epoch 19/100\n",
      "187/187 [==============================] - 0s 2ms/step - loss: 2.3048 - mae: 2.3048 - val_loss: 2.3514 - val_mae: 2.3514\n",
      "Epoch 20/100\n",
      "187/187 [==============================] - 0s 2ms/step - loss: 2.3085 - mae: 2.3085 - val_loss: 2.3688 - val_mae: 2.3688\n",
      "Epoch 21/100\n",
      "187/187 [==============================] - 0s 2ms/step - loss: 2.3691 - mae: 2.3691 - val_loss: 2.3143 - val_mae: 2.3143\n",
      "Epoch 22/100\n",
      "187/187 [==============================] - 0s 2ms/step - loss: 2.3005 - mae: 2.3005 - val_loss: 2.3656 - val_mae: 2.3656\n",
      "Epoch 23/100\n",
      "187/187 [==============================] - 0s 2ms/step - loss: 2.3195 - mae: 2.3195 - val_loss: 2.3097 - val_mae: 2.3097\n",
      "Epoch 24/100\n",
      "187/187 [==============================] - 0s 2ms/step - loss: 2.2946 - mae: 2.2946 - val_loss: 2.3329 - val_mae: 2.3329\n",
      "Epoch 25/100\n",
      "187/187 [==============================] - 0s 2ms/step - loss: 2.3148 - mae: 2.3148 - val_loss: 2.3233 - val_mae: 2.3233\n",
      "Epoch 26/100\n",
      "187/187 [==============================] - 0s 2ms/step - loss: 2.3267 - mae: 2.3267 - val_loss: 2.3023 - val_mae: 2.3023\n",
      "Epoch 27/100\n",
      "187/187 [==============================] - 0s 2ms/step - loss: 2.3459 - mae: 2.3459 - val_loss: 2.3053 - val_mae: 2.3053\n",
      "Epoch 28/100\n",
      "187/187 [==============================] - 0s 2ms/step - loss: 2.3439 - mae: 2.3439 - val_loss: 2.3519 - val_mae: 2.3519\n",
      "Epoch 29/100\n",
      "187/187 [==============================] - 0s 2ms/step - loss: 2.2952 - mae: 2.2952 - val_loss: 2.3469 - val_mae: 2.3469\n",
      "Epoch 30/100\n",
      "187/187 [==============================] - 0s 2ms/step - loss: 2.3073 - mae: 2.3073 - val_loss: 2.2957 - val_mae: 2.2957\n",
      "Epoch 31/100\n",
      "187/187 [==============================] - 0s 2ms/step - loss: 2.3511 - mae: 2.3511 - val_loss: 2.2976 - val_mae: 2.2976\n",
      "Epoch 32/100\n",
      "187/187 [==============================] - 0s 2ms/step - loss: 2.3403 - mae: 2.3403 - val_loss: 2.3273 - val_mae: 2.3273\n",
      "Epoch 33/100\n",
      "187/187 [==============================] - 0s 2ms/step - loss: 2.3497 - mae: 2.3497 - val_loss: 2.2984 - val_mae: 2.2984\n",
      "Epoch 34/100\n",
      "187/187 [==============================] - 0s 2ms/step - loss: 2.3305 - mae: 2.3305 - val_loss: 2.3170 - val_mae: 2.3170\n",
      "Epoch 35/100\n",
      "187/187 [==============================] - 0s 2ms/step - loss: 2.2839 - mae: 2.2839 - val_loss: 2.2954 - val_mae: 2.2954\n",
      "Epoch 36/100\n",
      "187/187 [==============================] - 0s 2ms/step - loss: 2.2833 - mae: 2.2833 - val_loss: 2.2869 - val_mae: 2.2869\n",
      "Epoch 37/100\n",
      "187/187 [==============================] - 0s 2ms/step - loss: 2.3101 - mae: 2.3101 - val_loss: 2.2901 - val_mae: 2.2901\n",
      "Epoch 38/100\n",
      "187/187 [==============================] - 0s 2ms/step - loss: 2.2868 - mae: 2.2868 - val_loss: 2.3085 - val_mae: 2.3085\n",
      "Epoch 39/100\n",
      "187/187 [==============================] - 0s 2ms/step - loss: 2.2977 - mae: 2.2977 - val_loss: 2.3081 - val_mae: 2.3081\n",
      "Epoch 40/100\n",
      "187/187 [==============================] - 0s 2ms/step - loss: 2.3272 - mae: 2.3272 - val_loss: 2.3536 - val_mae: 2.3536\n",
      "Epoch 41/100\n",
      "187/187 [==============================] - 0s 2ms/step - loss: 2.2768 - mae: 2.2768 - val_loss: 2.2976 - val_mae: 2.2976\n",
      "Epoch 42/100\n",
      "187/187 [==============================] - 0s 2ms/step - loss: 2.2980 - mae: 2.2980 - val_loss: 2.3039 - val_mae: 2.3039\n",
      "Epoch 43/100\n",
      "187/187 [==============================] - 0s 2ms/step - loss: 2.2940 - mae: 2.2940 - val_loss: 2.3432 - val_mae: 2.3432\n",
      "Epoch 44/100\n",
      "187/187 [==============================] - 0s 2ms/step - loss: 2.3037 - mae: 2.3037 - val_loss: 2.3079 - val_mae: 2.3079\n",
      "Epoch 45/100\n",
      "187/187 [==============================] - 0s 2ms/step - loss: 2.2907 - mae: 2.2907 - val_loss: 2.3072 - val_mae: 2.3072\n",
      "Epoch 46/100\n",
      "187/187 [==============================] - 0s 2ms/step - loss: 2.2974 - mae: 2.2974 - val_loss: 2.3046 - val_mae: 2.3046\n",
      "Epoch 47/100\n",
      "187/187 [==============================] - 0s 2ms/step - loss: 2.2796 - mae: 2.2796 - val_loss: 2.2923 - val_mae: 2.2923\n",
      "Epoch 48/100\n",
      "187/187 [==============================] - 0s 2ms/step - loss: 2.2527 - mae: 2.2527 - val_loss: 2.3237 - val_mae: 2.3237\n",
      "Epoch 49/100\n",
      "187/187 [==============================] - 0s 2ms/step - loss: 2.3263 - mae: 2.3263 - val_loss: 2.3063 - val_mae: 2.3063\n",
      "Epoch 50/100\n",
      "187/187 [==============================] - 0s 2ms/step - loss: 2.2877 - mae: 2.2877 - val_loss: 2.3405 - val_mae: 2.3405\n",
      "Epoch 51/100\n",
      "187/187 [==============================] - 0s 2ms/step - loss: 2.2889 - mae: 2.2889 - val_loss: 2.3273 - val_mae: 2.3273\n",
      "Epoch 52/100\n",
      "187/187 [==============================] - 0s 2ms/step - loss: 2.2738 - mae: 2.2738 - val_loss: 2.2712 - val_mae: 2.2712\n",
      "Epoch 53/100\n",
      "187/187 [==============================] - 0s 2ms/step - loss: 2.2565 - mae: 2.2565 - val_loss: 2.2774 - val_mae: 2.2774\n",
      "Epoch 54/100\n",
      "187/187 [==============================] - 0s 2ms/step - loss: 2.3376 - mae: 2.3376 - val_loss: 2.3352 - val_mae: 2.3352\n",
      "Epoch 55/100\n",
      "187/187 [==============================] - 0s 2ms/step - loss: 2.2811 - mae: 2.2811 - val_loss: 2.2722 - val_mae: 2.2722\n",
      "Epoch 56/100\n",
      "187/187 [==============================] - 0s 2ms/step - loss: 2.2988 - mae: 2.2988 - val_loss: 2.2744 - val_mae: 2.2744\n",
      "Epoch 57/100\n",
      "187/187 [==============================] - 0s 2ms/step - loss: 2.3148 - mae: 2.3148 - val_loss: 2.3396 - val_mae: 2.3396\n",
      "Epoch 58/100\n",
      "187/187 [==============================] - 0s 2ms/step - loss: 2.2821 - mae: 2.2821 - val_loss: 2.3166 - val_mae: 2.3166\n",
      "Epoch 59/100\n",
      "187/187 [==============================] - 0s 2ms/step - loss: 2.2977 - mae: 2.2977 - val_loss: 2.2768 - val_mae: 2.2768\n",
      "Epoch 60/100\n",
      "187/187 [==============================] - 0s 2ms/step - loss: 2.2687 - mae: 2.2687 - val_loss: 2.3068 - val_mae: 2.3068\n",
      "Epoch 61/100\n",
      "187/187 [==============================] - 0s 2ms/step - loss: 2.3055 - mae: 2.3055 - val_loss: 2.2864 - val_mae: 2.2864\n"
     ]
    },
    {
     "name": "stdout",
     "output_type": "stream",
     "text": [
      "Epoch 62/100\n",
      "187/187 [==============================] - 0s 2ms/step - loss: 2.3094 - mae: 2.3094 - val_loss: 2.3230 - val_mae: 2.3230\n",
      "Epoch 63/100\n",
      "187/187 [==============================] - 0s 2ms/step - loss: 2.2986 - mae: 2.2986 - val_loss: 2.2976 - val_mae: 2.2976\n",
      "Epoch 64/100\n",
      "187/187 [==============================] - 0s 2ms/step - loss: 2.2882 - mae: 2.2882 - val_loss: 2.2948 - val_mae: 2.2948\n",
      "Epoch 65/100\n",
      "187/187 [==============================] - 0s 2ms/step - loss: 2.2751 - mae: 2.2751 - val_loss: 2.2834 - val_mae: 2.2834\n",
      "Epoch 66/100\n",
      "187/187 [==============================] - 0s 2ms/step - loss: 2.2478 - mae: 2.2478 - val_loss: 2.2802 - val_mae: 2.2802\n",
      "Epoch 67/100\n",
      "187/187 [==============================] - 0s 2ms/step - loss: 2.2271 - mae: 2.2271 - val_loss: 2.2641 - val_mae: 2.2641\n",
      "Epoch 68/100\n",
      "187/187 [==============================] - 0s 2ms/step - loss: 2.2696 - mae: 2.2696 - val_loss: 2.2640 - val_mae: 2.2640\n",
      "Epoch 69/100\n",
      "187/187 [==============================] - 0s 2ms/step - loss: 2.2962 - mae: 2.2962 - val_loss: 2.2962 - val_mae: 2.2962\n",
      "Epoch 70/100\n",
      "187/187 [==============================] - 0s 2ms/step - loss: 2.3000 - mae: 2.3000 - val_loss: 2.2653 - val_mae: 2.2653\n",
      "Epoch 71/100\n",
      "187/187 [==============================] - 0s 2ms/step - loss: 2.3129 - mae: 2.3129 - val_loss: 2.3256 - val_mae: 2.3256\n",
      "Epoch 72/100\n",
      "187/187 [==============================] - 0s 2ms/step - loss: 2.3026 - mae: 2.3026 - val_loss: 2.2772 - val_mae: 2.2772\n",
      "Epoch 73/100\n",
      "187/187 [==============================] - 0s 2ms/step - loss: 2.2469 - mae: 2.2469 - val_loss: 2.2698 - val_mae: 2.2698\n",
      "Epoch 74/100\n",
      "187/187 [==============================] - 0s 2ms/step - loss: 2.2730 - mae: 2.2730 - val_loss: 2.2761 - val_mae: 2.2761\n",
      "Epoch 75/100\n",
      "187/187 [==============================] - 0s 2ms/step - loss: 2.2980 - mae: 2.2980 - val_loss: 2.2596 - val_mae: 2.2596\n",
      "Epoch 76/100\n",
      "187/187 [==============================] - 0s 2ms/step - loss: 2.3112 - mae: 2.3112 - val_loss: 2.2583 - val_mae: 2.2583\n",
      "Epoch 77/100\n",
      "187/187 [==============================] - 0s 2ms/step - loss: 2.3292 - mae: 2.3292 - val_loss: 2.2772 - val_mae: 2.2772\n",
      "Epoch 78/100\n",
      "187/187 [==============================] - 0s 2ms/step - loss: 2.3136 - mae: 2.3136 - val_loss: 2.2620 - val_mae: 2.2620\n",
      "Epoch 79/100\n",
      "187/187 [==============================] - 0s 2ms/step - loss: 2.2816 - mae: 2.2816 - val_loss: 2.2724 - val_mae: 2.2724\n",
      "Epoch 80/100\n",
      "187/187 [==============================] - 0s 2ms/step - loss: 2.2831 - mae: 2.2831 - val_loss: 2.2665 - val_mae: 2.2665\n",
      "Epoch 81/100\n",
      "187/187 [==============================] - 0s 2ms/step - loss: 2.2738 - mae: 2.2738 - val_loss: 2.3277 - val_mae: 2.3277\n",
      "Epoch 82/100\n",
      "187/187 [==============================] - 0s 2ms/step - loss: 2.2749 - mae: 2.2749 - val_loss: 2.2655 - val_mae: 2.2655\n",
      "Epoch 83/100\n",
      "187/187 [==============================] - 0s 2ms/step - loss: 2.3172 - mae: 2.3172 - val_loss: 2.2953 - val_mae: 2.2953\n",
      "Epoch 84/100\n",
      "187/187 [==============================] - 0s 2ms/step - loss: 2.3070 - mae: 2.3070 - val_loss: 2.2919 - val_mae: 2.2919\n",
      "Epoch 85/100\n",
      "187/187 [==============================] - 0s 2ms/step - loss: 2.2871 - mae: 2.2871 - val_loss: 2.2538 - val_mae: 2.2538\n",
      "Epoch 86/100\n",
      "187/187 [==============================] - 0s 2ms/step - loss: 2.2985 - mae: 2.2985 - val_loss: 2.2980 - val_mae: 2.2980\n",
      "Epoch 87/100\n",
      "187/187 [==============================] - 0s 2ms/step - loss: 2.2764 - mae: 2.2764 - val_loss: 2.2585 - val_mae: 2.2585\n",
      "Epoch 88/100\n",
      "187/187 [==============================] - 0s 2ms/step - loss: 2.2580 - mae: 2.2580 - val_loss: 2.2544 - val_mae: 2.2544\n",
      "Epoch 89/100\n",
      "187/187 [==============================] - 0s 2ms/step - loss: 2.2614 - mae: 2.2614 - val_loss: 2.2602 - val_mae: 2.2602\n",
      "Epoch 90/100\n",
      "187/187 [==============================] - 0s 2ms/step - loss: 2.2941 - mae: 2.2941 - val_loss: 2.2742 - val_mae: 2.2742\n",
      "Epoch 91/100\n",
      "187/187 [==============================] - 0s 2ms/step - loss: 2.2863 - mae: 2.2863 - val_loss: 2.3038 - val_mae: 2.3038\n",
      "Epoch 92/100\n",
      "187/187 [==============================] - 0s 2ms/step - loss: 2.2924 - mae: 2.2924 - val_loss: 2.2959 - val_mae: 2.2959\n",
      "Epoch 93/100\n",
      "187/187 [==============================] - 0s 2ms/step - loss: 2.2915 - mae: 2.2915 - val_loss: 2.3091 - val_mae: 2.3091\n",
      "Epoch 94/100\n",
      "187/187 [==============================] - 0s 2ms/step - loss: 2.2492 - mae: 2.2492 - val_loss: 2.2630 - val_mae: 2.2630\n",
      "Epoch 95/100\n",
      "187/187 [==============================] - 0s 2ms/step - loss: 2.2930 - mae: 2.2930 - val_loss: 2.3253 - val_mae: 2.3253\n",
      "Epoch 96/100\n",
      "187/187 [==============================] - 0s 2ms/step - loss: 2.2616 - mae: 2.2616 - val_loss: 2.2643 - val_mae: 2.2643\n",
      "Epoch 97/100\n",
      "187/187 [==============================] - 0s 2ms/step - loss: 2.2951 - mae: 2.2951 - val_loss: 2.2830 - val_mae: 2.2830\n",
      "Epoch 98/100\n",
      "187/187 [==============================] - 0s 2ms/step - loss: 2.2863 - mae: 2.2863 - val_loss: 2.2786 - val_mae: 2.2786\n",
      "Epoch 99/100\n",
      "187/187 [==============================] - 0s 2ms/step - loss: 2.2679 - mae: 2.2679 - val_loss: 2.2743 - val_mae: 2.2743\n",
      "Epoch 100/100\n",
      "187/187 [==============================] - 0s 2ms/step - loss: 2.2951 - mae: 2.2951 - val_loss: 2.2583 - val_mae: 2.2583\n"
     ]
    }
   ],
   "source": [
    "x = df.drop('fare_amount', axis=1)\n",
    "y = df['fare_amount']\n",
    "\n",
    "hist = model.fit(x, y, validation_split=0.2, epochs=100, batch_size=100)"
   ]
  },
  {
   "cell_type": "markdown",
   "metadata": {},
   "source": [
    "Plot the training accuracy and validation accuracy over time."
   ]
  },
  {
   "cell_type": "code",
   "execution_count": 16,
   "metadata": {},
   "outputs": [
    {
     "data": {
      "text/plain": [
       "[]"
      ]
     },
     "execution_count": 16,
     "metadata": {},
     "output_type": "execute_result"
    },
    {
     "data": {
      "image/png": "[encoded data removed]",
      "text/plain": [
       "<Figure size 432x288 with 1 Axes>"
      ]
     },
     "metadata": {},
     "output_type": "display_data"
    }
   ],
   "source": [
    "err = hist.history['mae']\n",
    "val_err = hist.history['val_mae']\n",
    "epochs = range(1, len(err) + 1)\n",
    "\n",
    "plt.plot(epochs, err, '-', label='Training MAE')\n",
    "plt.plot(epochs, val_err, ':', label='Validation MAE')\n",
    "plt.title('Training and Validation Accuracy')\n",
    "plt.xlabel('Epoch')\n",
    "plt.ylabel('Mean Absolute Error')\n",
    "plt.legend(loc='upper right')\n",
    "plt.plot()"
   ]
  },
  {
   "cell_type": "markdown",
   "metadata": {},
   "source": [
    "Get the coefficient of determination (R2) to determine how accurate the model is."
   ]
  },
  {
   "cell_type": "code",
   "execution_count": 17,
   "metadata": {},
   "outputs": [
    {
     "data": {
      "text/plain": [
       "0.7499656099033325"
      ]
     },
     "execution_count": 17,
     "metadata": {},
     "output_type": "execute_result"
    }
   ],
   "source": [
    "from sklearn.metrics import r2_score\n",
    "\n",
    "r2_score(y, model.predict(x))"
   ]
  },
  {
   "cell_type": "markdown",
   "metadata": {},
   "source": [
    "## Train again with standardized data\n",
    "\n",
    "Neural networks frequently perform better with data normalized with Scikit's [StandardScaler](https://scikit-learn.org/stable/modules/generated/sklearn.preprocessing.StandardScaler.html) class. Normalize the data and train the network again after restoring the original weights and biases."
   ]
  },
  {
   "cell_type": "code",
   "execution_count": 18,
   "metadata": {},
   "outputs": [
    {
     "name": "stdout",
     "output_type": "stream",
     "text": [
      "Epoch 1/100\n",
      "187/187 [==============================] - 1s 3ms/step - loss: 2.9266 - mae: 2.9266 - val_loss: 2.3598 - val_mae: 2.3598\n",
      "Epoch 2/100\n",
      "187/187 [==============================] - 0s 2ms/step - loss: 2.3704 - mae: 2.3704 - val_loss: 2.3508 - val_mae: 2.3508\n",
      "Epoch 3/100\n",
      "187/187 [==============================] - 0s 2ms/step - loss: 2.3602 - mae: 2.3602 - val_loss: 2.3693 - val_mae: 2.3693\n",
      "Epoch 4/100\n",
      "187/187 [==============================] - 0s 2ms/step - loss: 2.3359 - mae: 2.3359 - val_loss: 2.3527 - val_mae: 2.3527\n",
      "Epoch 5/100\n",
      "187/187 [==============================] - 0s 2ms/step - loss: 2.3325 - mae: 2.3325 - val_loss: 2.3571 - val_mae: 2.3571\n",
      "Epoch 6/100\n",
      "187/187 [==============================] - 0s 2ms/step - loss: 2.3289 - mae: 2.3289 - val_loss: 2.3463 - val_mae: 2.3463\n",
      "Epoch 7/100\n",
      "187/187 [==============================] - 0s 2ms/step - loss: 2.3233 - mae: 2.3233 - val_loss: 2.3110 - val_mae: 2.3110\n",
      "Epoch 8/100\n",
      "187/187 [==============================] - 0s 2ms/step - loss: 2.3243 - mae: 2.3243 - val_loss: 2.3108 - val_mae: 2.3108\n",
      "Epoch 9/100\n",
      "187/187 [==============================] - 0s 2ms/step - loss: 2.3219 - mae: 2.3219 - val_loss: 2.2976 - val_mae: 2.2976\n",
      "Epoch 10/100\n",
      "187/187 [==============================] - 0s 2ms/step - loss: 2.3207 - mae: 2.3207 - val_loss: 2.2938 - val_mae: 2.2938\n",
      "Epoch 11/100\n",
      "187/187 [==============================] - 0s 2ms/step - loss: 2.3076 - mae: 2.3076 - val_loss: 2.2814 - val_mae: 2.2814\n",
      "Epoch 12/100\n",
      "187/187 [==============================] - 0s 2ms/step - loss: 2.3058 - mae: 2.3058 - val_loss: 2.2839 - val_mae: 2.2839\n",
      "Epoch 13/100\n",
      "187/187 [==============================] - 0s 2ms/step - loss: 2.3054 - mae: 2.3054 - val_loss: 2.3047 - val_mae: 2.3047\n",
      "Epoch 14/100\n",
      "187/187 [==============================] - 0s 2ms/step - loss: 2.2979 - mae: 2.2979 - val_loss: 2.2817 - val_mae: 2.2817\n",
      "Epoch 15/100\n",
      "187/187 [==============================] - 0s 2ms/step - loss: 2.3007 - mae: 2.3007 - val_loss: 2.3074 - val_mae: 2.3074\n",
      "Epoch 16/100\n",
      "187/187 [==============================] - 0s 2ms/step - loss: 2.2903 - mae: 2.2902 - val_loss: 2.2870 - val_mae: 2.2870\n",
      "Epoch 17/100\n",
      "187/187 [==============================] - 0s 2ms/step - loss: 2.3022 - mae: 2.3022 - val_loss: 2.3142 - val_mae: 2.3142\n",
      "Epoch 18/100\n",
      "187/187 [==============================] - 0s 2ms/step - loss: 2.2898 - mae: 2.2898 - val_loss: 2.3049 - val_mae: 2.3049\n",
      "Epoch 19/100\n",
      "187/187 [==============================] - 0s 2ms/step - loss: 2.2917 - mae: 2.2917 - val_loss: 2.3076 - val_mae: 2.3076\n",
      "Epoch 20/100\n",
      "187/187 [==============================] - 0s 2ms/step - loss: 2.2935 - mae: 2.2935 - val_loss: 2.2693 - val_mae: 2.2693\n",
      "Epoch 21/100\n",
      "187/187 [==============================] - 0s 2ms/step - loss: 2.2836 - mae: 2.2836 - val_loss: 2.2789 - val_mae: 2.2789\n",
      "Epoch 22/100\n",
      "187/187 [==============================] - 0s 2ms/step - loss: 2.2964 - mae: 2.2964 - val_loss: 2.2717 - val_mae: 2.2717\n",
      "Epoch 23/100\n",
      "187/187 [==============================] - 0s 2ms/step - loss: 2.2961 - mae: 2.2961 - val_loss: 2.2571 - val_mae: 2.2571\n",
      "Epoch 24/100\n",
      "187/187 [==============================] - 0s 2ms/step - loss: 2.2918 - mae: 2.2918 - val_loss: 2.2856 - val_mae: 2.2856\n",
      "Epoch 25/100\n",
      "187/187 [==============================] - 0s 2ms/step - loss: 2.2832 - mae: 2.2832 - val_loss: 2.2842 - val_mae: 2.2842\n",
      "Epoch 26/100\n",
      "187/187 [==============================] - 0s 2ms/step - loss: 2.2858 - mae: 2.2858 - val_loss: 2.2579 - val_mae: 2.2579\n",
      "Epoch 27/100\n",
      "187/187 [==============================] - 0s 2ms/step - loss: 2.2790 - mae: 2.2790 - val_loss: 2.2660 - val_mae: 2.2660\n",
      "Epoch 28/100\n",
      "187/187 [==============================] - 0s 2ms/step - loss: 2.2824 - mae: 2.2824 - val_loss: 2.2620 - val_mae: 2.2620\n",
      "Epoch 29/100\n",
      "187/187 [==============================] - 0s 2ms/step - loss: 2.2856 - mae: 2.2856 - val_loss: 2.2769 - val_mae: 2.2769\n",
      "Epoch 30/100\n",
      "187/187 [==============================] - 0s 2ms/step - loss: 2.2864 - mae: 2.2864 - val_loss: 2.2743 - val_mae: 2.2743\n",
      "Epoch 31/100\n",
      "187/187 [==============================] - 0s 2ms/step - loss: 2.2907 - mae: 2.2907 - val_loss: 2.2742 - val_mae: 2.2742\n",
      "Epoch 32/100\n",
      "187/187 [==============================] - 0s 2ms/step - loss: 2.2763 - mae: 2.2763 - val_loss: 2.2575 - val_mae: 2.2575\n",
      "Epoch 33/100\n",
      "187/187 [==============================] - 0s 2ms/step - loss: 2.2781 - mae: 2.2781 - val_loss: 2.2534 - val_mae: 2.2534\n",
      "Epoch 34/100\n",
      "187/187 [==============================] - 0s 2ms/step - loss: 2.2794 - mae: 2.2794 - val_loss: 2.2482 - val_mae: 2.2482\n",
      "Epoch 35/100\n",
      "187/187 [==============================] - 0s 2ms/step - loss: 2.2859 - mae: 2.2859 - val_loss: 2.2903 - val_mae: 2.2903\n",
      "Epoch 36/100\n",
      "187/187 [==============================] - 0s 2ms/step - loss: 2.2790 - mae: 2.2790 - val_loss: 2.2808 - val_mae: 2.2808\n",
      "Epoch 37/100\n",
      "187/187 [==============================] - 0s 2ms/step - loss: 2.2708 - mae: 2.2708 - val_loss: 2.2563 - val_mae: 2.2563\n",
      "Epoch 38/100\n",
      "187/187 [==============================] - 0s 2ms/step - loss: 2.2734 - mae: 2.2734 - val_loss: 2.2529 - val_mae: 2.2529\n",
      "Epoch 39/100\n",
      "187/187 [==============================] - 0s 2ms/step - loss: 2.2738 - mae: 2.2738 - val_loss: 2.2461 - val_mae: 2.2461\n",
      "Epoch 40/100\n",
      "187/187 [==============================] - 0s 2ms/step - loss: 2.2776 - mae: 2.2776 - val_loss: 2.2735 - val_mae: 2.2735\n",
      "Epoch 41/100\n",
      "187/187 [==============================] - 0s 2ms/step - loss: 2.2726 - mae: 2.2726 - val_loss: 2.2800 - val_mae: 2.2800\n",
      "Epoch 42/100\n",
      "187/187 [==============================] - 0s 2ms/step - loss: 2.2803 - mae: 2.2803 - val_loss: 2.2833 - val_mae: 2.2833\n",
      "Epoch 43/100\n",
      "187/187 [==============================] - 0s 2ms/step - loss: 2.2783 - mae: 2.2783 - val_loss: 2.2599 - val_mae: 2.2599\n",
      "Epoch 44/100\n",
      "187/187 [==============================] - 0s 2ms/step - loss: 2.2776 - mae: 2.2776 - val_loss: 2.2468 - val_mae: 2.2468\n",
      "Epoch 45/100\n",
      "187/187 [==============================] - 0s 2ms/step - loss: 2.2767 - mae: 2.2767 - val_loss: 2.2534 - val_mae: 2.2534\n",
      "Epoch 46/100\n",
      "187/187 [==============================] - 0s 2ms/step - loss: 2.2712 - mae: 2.2712 - val_loss: 2.2505 - val_mae: 2.2505\n",
      "Epoch 47/100\n",
      "187/187 [==============================] - 0s 2ms/step - loss: 2.2786 - mae: 2.2786 - val_loss: 2.2720 - val_mae: 2.2720\n",
      "Epoch 48/100\n",
      "187/187 [==============================] - 0s 2ms/step - loss: 2.2706 - mae: 2.2706 - val_loss: 2.2505 - val_mae: 2.2505\n",
      "Epoch 49/100\n",
      "187/187 [==============================] - 0s 2ms/step - loss: 2.2700 - mae: 2.2700 - val_loss: 2.2849 - val_mae: 2.2849\n",
      "Epoch 50/100\n",
      "187/187 [==============================] - 0s 2ms/step - loss: 2.2705 - mae: 2.2705 - val_loss: 2.2566 - val_mae: 2.2566\n",
      "Epoch 51/100\n",
      "187/187 [==============================] - 0s 2ms/step - loss: 2.2724 - mae: 2.2724 - val_loss: 2.2527 - val_mae: 2.2527\n",
      "Epoch 52/100\n",
      "187/187 [==============================] - 0s 2ms/step - loss: 2.2729 - mae: 2.2729 - val_loss: 2.2689 - val_mae: 2.2689\n",
      "Epoch 53/100\n",
      "187/187 [==============================] - 0s 2ms/step - loss: 2.2730 - mae: 2.2730 - val_loss: 2.2928 - val_mae: 2.2928\n",
      "Epoch 54/100\n",
      "187/187 [==============================] - 0s 2ms/step - loss: 2.2646 - mae: 2.2646 - val_loss: 2.2492 - val_mae: 2.2492\n",
      "Epoch 55/100\n",
      "187/187 [==============================] - 0s 2ms/step - loss: 2.2665 - mae: 2.2665 - val_loss: 2.2902 - val_mae: 2.2902\n",
      "Epoch 56/100\n",
      "187/187 [==============================] - 0s 2ms/step - loss: 2.2653 - mae: 2.2653 - val_loss: 2.2680 - val_mae: 2.2680\n",
      "Epoch 57/100\n",
      "187/187 [==============================] - 0s 2ms/step - loss: 2.2772 - mae: 2.2772 - val_loss: 2.3224 - val_mae: 2.3224\n",
      "Epoch 58/100\n",
      "187/187 [==============================] - 0s 2ms/step - loss: 2.2718 - mae: 2.2718 - val_loss: 2.2459 - val_mae: 2.2459\n",
      "Epoch 59/100\n",
      "187/187 [==============================] - 0s 2ms/step - loss: 2.2677 - mae: 2.2677 - val_loss: 2.3113 - val_mae: 2.3113\n",
      "Epoch 60/100\n",
      "187/187 [==============================] - 0s 2ms/step - loss: 2.2693 - mae: 2.2693 - val_loss: 2.2740 - val_mae: 2.2740\n",
      "Epoch 61/100\n",
      "187/187 [==============================] - 0s 2ms/step - loss: 2.2676 - mae: 2.2676 - val_loss: 2.2432 - val_mae: 2.2432\n",
      "Epoch 62/100\n"
     ]
    },
    {
     "name": "stdout",
     "output_type": "stream",
     "text": [
      "187/187 [==============================] - 0s 2ms/step - loss: 2.2732 - mae: 2.2732 - val_loss: 2.2615 - val_mae: 2.2615\n",
      "Epoch 63/100\n",
      "187/187 [==============================] - 0s 2ms/step - loss: 2.2633 - mae: 2.2633 - val_loss: 2.2470 - val_mae: 2.2470\n",
      "Epoch 64/100\n",
      "187/187 [==============================] - 0s 2ms/step - loss: 2.2679 - mae: 2.2679 - val_loss: 2.2532 - val_mae: 2.2532\n",
      "Epoch 65/100\n",
      "187/187 [==============================] - 0s 2ms/step - loss: 2.2670 - mae: 2.2670 - val_loss: 2.2620 - val_mae: 2.2620\n",
      "Epoch 66/100\n",
      "187/187 [==============================] - 0s 2ms/step - loss: 2.2758 - mae: 2.2758 - val_loss: 2.2496 - val_mae: 2.2496\n",
      "Epoch 67/100\n",
      "187/187 [==============================] - 0s 2ms/step - loss: 2.2629 - mae: 2.2629 - val_loss: 2.2505 - val_mae: 2.2505\n",
      "Epoch 68/100\n",
      "187/187 [==============================] - 0s 2ms/step - loss: 2.2677 - mae: 2.2677 - val_loss: 2.2414 - val_mae: 2.2414\n",
      "Epoch 69/100\n",
      "187/187 [==============================] - 0s 2ms/step - loss: 2.2645 - mae: 2.2645 - val_loss: 2.2443 - val_mae: 2.2443\n",
      "Epoch 70/100\n",
      "187/187 [==============================] - 0s 2ms/step - loss: 2.2634 - mae: 2.2634 - val_loss: 2.2432 - val_mae: 2.2432\n",
      "Epoch 71/100\n",
      "187/187 [==============================] - 0s 2ms/step - loss: 2.2671 - mae: 2.2671 - val_loss: 2.2419 - val_mae: 2.2419\n",
      "Epoch 72/100\n",
      "187/187 [==============================] - 0s 2ms/step - loss: 2.2620 - mae: 2.2620 - val_loss: 2.2485 - val_mae: 2.2485\n",
      "Epoch 73/100\n",
      "187/187 [==============================] - 0s 2ms/step - loss: 2.2683 - mae: 2.2683 - val_loss: 2.2719 - val_mae: 2.2719\n",
      "Epoch 74/100\n",
      "187/187 [==============================] - 0s 2ms/step - loss: 2.2617 - mae: 2.2617 - val_loss: 2.2599 - val_mae: 2.2599\n",
      "Epoch 75/100\n",
      "187/187 [==============================] - 0s 2ms/step - loss: 2.2637 - mae: 2.2637 - val_loss: 2.2392 - val_mae: 2.2392\n",
      "Epoch 76/100\n",
      "187/187 [==============================] - 0s 2ms/step - loss: 2.2646 - mae: 2.2646 - val_loss: 2.2804 - val_mae: 2.2804\n",
      "Epoch 77/100\n",
      "187/187 [==============================] - 0s 2ms/step - loss: 2.2712 - mae: 2.2712 - val_loss: 2.2582 - val_mae: 2.2582\n",
      "Epoch 78/100\n",
      "187/187 [==============================] - 0s 2ms/step - loss: 2.2660 - mae: 2.2660 - val_loss: 2.2548 - val_mae: 2.2548\n",
      "Epoch 79/100\n",
      "187/187 [==============================] - 0s 2ms/step - loss: 2.2593 - mae: 2.2593 - val_loss: 2.2423 - val_mae: 2.2423\n",
      "Epoch 80/100\n",
      "187/187 [==============================] - 0s 2ms/step - loss: 2.2621 - mae: 2.2621 - val_loss: 2.2451 - val_mae: 2.2451\n",
      "Epoch 81/100\n",
      "187/187 [==============================] - 0s 2ms/step - loss: 2.2666 - mae: 2.2666 - val_loss: 2.2665 - val_mae: 2.2665\n",
      "Epoch 82/100\n",
      "187/187 [==============================] - 0s 2ms/step - loss: 2.2696 - mae: 2.2696 - val_loss: 2.2495 - val_mae: 2.2495\n",
      "Epoch 83/100\n",
      "187/187 [==============================] - 0s 2ms/step - loss: 2.2618 - mae: 2.2618 - val_loss: 2.3585 - val_mae: 2.3585\n",
      "Epoch 84/100\n",
      "187/187 [==============================] - 0s 2ms/step - loss: 2.2686 - mae: 2.2686 - val_loss: 2.2573 - val_mae: 2.2573\n",
      "Epoch 85/100\n",
      "187/187 [==============================] - 0s 2ms/step - loss: 2.2682 - mae: 2.2682 - val_loss: 2.2546 - val_mae: 2.2546\n",
      "Epoch 86/100\n",
      "187/187 [==============================] - 0s 3ms/step - loss: 2.2676 - mae: 2.2676 - val_loss: 2.2519 - val_mae: 2.2519\n",
      "Epoch 87/100\n",
      "187/187 [==============================] - 0s 2ms/step - loss: 2.2591 - mae: 2.2591 - val_loss: 2.2516 - val_mae: 2.2516\n",
      "Epoch 88/100\n",
      "187/187 [==============================] - 0s 2ms/step - loss: 2.2603 - mae: 2.2603 - val_loss: 2.2522 - val_mae: 2.2522\n",
      "Epoch 89/100\n",
      "187/187 [==============================] - 0s 2ms/step - loss: 2.2594 - mae: 2.2594 - val_loss: 2.2533 - val_mae: 2.2533\n",
      "Epoch 90/100\n",
      "187/187 [==============================] - 0s 2ms/step - loss: 2.2597 - mae: 2.2597 - val_loss: 2.2692 - val_mae: 2.2692\n",
      "Epoch 91/100\n",
      "187/187 [==============================] - 0s 2ms/step - loss: 2.2605 - mae: 2.2605 - val_loss: 2.2504 - val_mae: 2.2504\n",
      "Epoch 92/100\n",
      "187/187 [==============================] - 0s 2ms/step - loss: 2.2629 - mae: 2.2629 - val_loss: 2.2643 - val_mae: 2.2643\n",
      "Epoch 93/100\n",
      "187/187 [==============================] - 0s 2ms/step - loss: 2.2624 - mae: 2.2624 - val_loss: 2.2757 - val_mae: 2.2757\n",
      "Epoch 94/100\n",
      "187/187 [==============================] - 0s 2ms/step - loss: 2.2682 - mae: 2.2682 - val_loss: 2.2477 - val_mae: 2.2477\n",
      "Epoch 95/100\n",
      "187/187 [==============================] - 0s 2ms/step - loss: 2.2572 - mae: 2.2572 - val_loss: 2.2505 - val_mae: 2.2505\n",
      "Epoch 96/100\n",
      "187/187 [==============================] - 0s 2ms/step - loss: 2.2727 - mae: 2.2727 - val_loss: 2.2452 - val_mae: 2.2452\n",
      "Epoch 97/100\n",
      "187/187 [==============================] - 0s 2ms/step - loss: 2.2600 - mae: 2.2600 - val_loss: 2.2406 - val_mae: 2.2406\n",
      "Epoch 98/100\n",
      "187/187 [==============================] - 0s 2ms/step - loss: 2.2613 - mae: 2.2613 - val_loss: 2.2456 - val_mae: 2.2456\n",
      "Epoch 99/100\n",
      "187/187 [==============================] - 0s 2ms/step - loss: 2.2583 - mae: 2.2583 - val_loss: 2.2399 - val_mae: 2.2399\n",
      "Epoch 100/100\n",
      "187/187 [==============================] - 0s 2ms/step - loss: 2.2579 - mae: 2.2579 - val_loss: 2.2594 - val_mae: 2.2594\n"
     ]
    }
   ],
   "source": [
    "from sklearn.preprocessing import StandardScaler\n",
    "\n",
    "scaler = StandardScaler()\n",
    "x = scaler.fit_transform(x)\n",
    "\n",
    "model.set_weights(weights) # Restore initial weights and biases\n",
    "hist = model.fit(x, y, validation_split=0.2, epochs=100, batch_size=100)"
   ]
  },
  {
   "cell_type": "markdown",
   "metadata": {},
   "source": [
    "Plot the training accuracy and validation accuracy over time."
   ]
  },
  {
   "cell_type": "code",
   "execution_count": 19,
   "metadata": {},
   "outputs": [
    {
     "data": {
      "text/plain": [
       "[]"
      ]
     },
     "execution_count": 19,
     "metadata": {},
     "output_type": "execute_result"
    },
    {
     "data": {
      "image/png": "[encoded data removed]",
      "text/plain": [
       "<Figure size 432x288 with 1 Axes>"
      ]
     },
     "metadata": {},
     "output_type": "display_data"
    }
   ],
   "source": [
    "err = hist.history['mae']\n",
    "val_err = hist.history['val_mae']\n",
    "epochs = range(1, len(err) + 1)\n",
    "\n",
    "plt.plot(epochs, err, '-', label='Training MAE')\n",
    "plt.plot(epochs, val_err, ':', label='Validation MAE')\n",
    "plt.title('Training and Validation Accuracy')\n",
    "plt.xlabel('Epoch')\n",
    "plt.ylabel('Mean Absolute Error')\n",
    "plt.legend(loc='upper right')\n",
    "plt.plot()"
   ]
  },
  {
   "cell_type": "markdown",
   "metadata": {},
   "source": [
    "Get the coefficient of determination (R2) to determine how accurate the model is."
   ]
  },
  {
   "cell_type": "code",
   "execution_count": 20,
   "metadata": {},
   "outputs": [
    {
     "data": {
      "text/plain": [
       "0.7521455484628158"
      ]
     },
     "execution_count": 20,
     "metadata": {},
     "output_type": "execute_result"
    }
   ],
   "source": [
    "r2_score(y, model.predict(x))"
   ]
  },
  {
   "cell_type": "markdown",
   "metadata": {},
   "source": [
    "## Use the model to predict fare amounts\n",
    "\n",
    "Finish up by using the trained model to make a pair of predictions. First, estimate what it will cost to hire a taxi for a 2-mile trip at 5:00 p.m. on Friday afternoon."
   ]
  },
  {
   "cell_type": "code",
   "execution_count": 21,
   "metadata": {},
   "outputs": [
    {
     "data": {
      "text/plain": [
       "array([[11.010818]], dtype=float32)"
      ]
     },
     "execution_count": 21,
     "metadata": {},
     "output_type": "execute_result"
    }
   ],
   "source": [
    "model.predict(scaler.transform([[4, 17, 2.0]]))"
   ]
  },
  {
   "cell_type": "markdown",
   "metadata": {},
   "source": [
    "Now predict the fare amount for a 2-mile trip taken at 5:00 p.m. one day later (on Saturday)."
   ]
  },
  {
   "cell_type": "code",
   "execution_count": 22,
   "metadata": {},
   "outputs": [
    {
     "data": {
      "text/plain": [
       "array([[10.72356]], dtype=float32)"
      ]
     },
     "execution_count": 22,
     "metadata": {},
     "output_type": "execute_result"
    }
   ],
   "source": [
    "model.predict(scaler.transform([[5, 17, 2.0]]))"
   ]
  },
  {
   "cell_type": "markdown",
   "metadata": {},
   "source": [
    "Does the model predict a higher or lower fare amount for the same trip on Saturday afternoon? Does this make sense given that the data comes from a New York City cab company?"
   ]
  }
 ],
 "metadata": {
  "kernelspec": {
   "display_name": "Python 3",
   "language": "python",
   "name": "python3"
  },
  "language_info": {
   "codemirror_mode": {
    "name": "ipython",
    "version": 3
   },
   "file_extension": ".py",
   "mimetype": "text/x-python",
   "name": "python",
   "nbconvert_exporter": "python",
   "pygments_lexer": "ipython3",
   "version": "3.8.5"
  }
 },
 "nbformat": 4,
 "nbformat_minor": 2
}
